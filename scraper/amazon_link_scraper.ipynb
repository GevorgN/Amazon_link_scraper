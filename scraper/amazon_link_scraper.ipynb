{
 "cells": [
  {
   "cell_type": "code",
   "execution_count": 1,
   "id": "upper-gardening",
   "metadata": {},
   "outputs": [],
   "source": [
    "import os, random, sys, time\n",
    "from urllib.parse import urlparse\n",
    "from selenium import webdriver\n",
    "from bs4 import BeautifulSoup\n",
    "from selenium.webdriver.common.by import By\n",
    "from selenium.webdriver.common.keys import Keys"
   ]
  },
  {
   "cell_type": "code",
   "execution_count": 2,
   "id": "square-application",
   "metadata": {},
   "outputs": [],
   "source": [
    "browser = webdriver.Chrome('chromedriver.exe')\n",
    "browser.get('https://www.amazon.com/international-sales-offers/b/?ie=UTF8&node=15529609011&ref_=nav_cs_gb_intl_52df97a2eee74206a8343034e85cd058')"
   ]
  },
  {
   "cell_type": "code",
   "execution_count": 3,
   "id": "narrative-negotiation",
   "metadata": {},
   "outputs": [],
   "source": [
    "time.sleep(1)"
   ]
  },
  {
   "cell_type": "code",
   "execution_count": 4,
   "id": "upset-canada",
   "metadata": {},
   "outputs": [],
   "source": [
    "last_height = browser.execute_script(\"return document.documentElement.scrollHeight\")\n",
    "while True:\n",
    "    # Scroll down to bottom\n",
    "    time.sleep(5)\n",
    "    #see_more_button.click()\n",
    "    time.sleep(5) \n",
    "    browser.execute_script(\"window.scrollTo(0,document.documentElement.scrollHeight);\") \n",
    "    # Wait to load page\n",
    "    time.sleep(5)\n",
    "\n",
    "    # Calculate new scroll height and compare with last scroll height\n",
    "    new_height = browser.execute_script(\"return document.documentElement.scrollHeight\")\n",
    "    if new_height == last_height:\n",
    "           break\n",
    "    last_height = new_height"
   ]
  },
  {
   "cell_type": "code",
   "execution_count": 5,
   "id": "brutal-woman",
   "metadata": {
    "scrolled": false
   },
   "outputs": [],
   "source": [
    "soup = BeautifulSoup(browser.page_source, 'lxml')"
   ]
  },
  {
   "cell_type": "code",
   "execution_count": 25,
   "id": "august-terry",
   "metadata": {
    "scrolled": true
   },
   "outputs": [],
   "source": [
    "info_links = []\n",
    "info_stars = []\n",
    "\n",
    "links = soup.find_all('a', {'id':'dealImage'})\n",
    "stars = soup.find_all('span',{'class':'a-size-small a-color-base'})\n",
    "\n",
    "for link in links:\n",
    "    link_text = link.get('href')\n",
    "    for star in stars:\n",
    "        star_rate = star.get_text()\n",
    "        if int(star_rate) > 10000:\n",
    "            info_stars.append(star_rate)\n",
    "            info_links.append(link_text)\n",
    "    #info = info.append(link_text)\n",
    "\n",
    "stars = soup.find_all('span',{'class':'a-size-small a-color-base'})\n"
   ]
  },
  {
   "cell_type": "code",
   "execution_count": 32,
   "id": "norwegian-causing",
   "metadata": {},
   "outputs": [
    {
     "name": "stdout",
     "output_type": "stream",
     "text": [
      "https://www.amazon.com/YHOON-Womens-Walking-Shoes-Sneakers/dp/B088133CZ9/ref=gbps_img_m-9_475e_b82cd450?smid=A1X20JDC2B5TSQ&pf_rd_p=5d86def2-ec10-4364-9008-8fbccf30475e&pf_rd_s=merchandised-search-9&pf_rd_t=101&pf_rd_i=15529609011&pf_rd_m=ATVPDKIKX0DER&pf_rd_r=EGSY1NE2BAJDAMTXMWZE\n"
     ]
    }
   ],
   "source": [
    "print(link_text)"
   ]
  },
  {
   "cell_type": "code",
   "execution_count": 27,
   "id": "cooked-cradle",
   "metadata": {},
   "outputs": [
    {
     "data": {
      "text/plain": [
       "[<span class=\"a-size-small a-color-base\">752</span>,\n",
       " <span class=\"a-size-small a-color-base\">79</span>,\n",
       " <span class=\"a-size-small a-color-base\">41860</span>,\n",
       " <span class=\"a-size-small a-color-base\">72420</span>,\n",
       " <span class=\"a-size-small a-color-base\">42025</span>,\n",
       " <span class=\"a-size-small a-color-base\">51988</span>,\n",
       " <span class=\"a-size-small a-color-base\">1033</span>,\n",
       " <span class=\"a-size-small a-color-base\">19940</span>,\n",
       " <span class=\"a-size-small a-color-base\">5873</span>,\n",
       " <span class=\"a-size-small a-color-base\">35103</span>,\n",
       " <span class=\"a-size-small a-color-base\">2847</span>,\n",
       " <span class=\"a-size-small a-color-base\">17673</span>,\n",
       " <span class=\"a-size-small a-color-base\">13607</span>,\n",
       " <span class=\"a-size-small a-color-base\">3360</span>]"
      ]
     },
     "execution_count": 27,
     "metadata": {},
     "output_type": "execute_result"
    }
   ],
   "source": [
    "stars"
   ]
  },
  {
   "cell_type": "code",
   "execution_count": 28,
   "id": "focal-fusion",
   "metadata": {},
   "outputs": [
    {
     "data": {
      "text/plain": [
       "['41860',\n",
       " '72420',\n",
       " '42025',\n",
       " '51988',\n",
       " '19940',\n",
       " '35103',\n",
       " '17673',\n",
       " '13607',\n",
       " '41860',\n",
       " '72420',\n",
       " '42025',\n",
       " '51988',\n",
       " '19940',\n",
       " '35103',\n",
       " '17673',\n",
       " '13607',\n",
       " '41860',\n",
       " '72420',\n",
       " '42025',\n",
       " '51988',\n",
       " '19940',\n",
       " '35103',\n",
       " '17673',\n",
       " '13607',\n",
       " '41860',\n",
       " '72420',\n",
       " '42025',\n",
       " '51988',\n",
       " '19940',\n",
       " '35103',\n",
       " '17673',\n",
       " '13607',\n",
       " '41860',\n",
       " '72420',\n",
       " '42025',\n",
       " '51988',\n",
       " '19940',\n",
       " '35103',\n",
       " '17673',\n",
       " '13607',\n",
       " '41860',\n",
       " '72420',\n",
       " '42025',\n",
       " '51988',\n",
       " '19940',\n",
       " '35103',\n",
       " '17673',\n",
       " '13607',\n",
       " '41860',\n",
       " '72420',\n",
       " '42025',\n",
       " '51988',\n",
       " '19940',\n",
       " '35103',\n",
       " '17673',\n",
       " '13607',\n",
       " '41860',\n",
       " '72420',\n",
       " '42025',\n",
       " '51988',\n",
       " '19940',\n",
       " '35103',\n",
       " '17673',\n",
       " '13607',\n",
       " '41860',\n",
       " '72420',\n",
       " '42025',\n",
       " '51988',\n",
       " '19940',\n",
       " '35103',\n",
       " '17673',\n",
       " '13607',\n",
       " '41860',\n",
       " '72420',\n",
       " '42025',\n",
       " '51988',\n",
       " '19940',\n",
       " '35103',\n",
       " '17673',\n",
       " '13607',\n",
       " '41860',\n",
       " '72420',\n",
       " '42025',\n",
       " '51988',\n",
       " '19940',\n",
       " '35103',\n",
       " '17673',\n",
       " '13607',\n",
       " '41860',\n",
       " '72420',\n",
       " '42025',\n",
       " '51988',\n",
       " '19940',\n",
       " '35103',\n",
       " '17673',\n",
       " '13607',\n",
       " '41860',\n",
       " '72420',\n",
       " '42025',\n",
       " '51988',\n",
       " '19940',\n",
       " '35103',\n",
       " '17673',\n",
       " '13607',\n",
       " '41860',\n",
       " '72420',\n",
       " '42025',\n",
       " '51988',\n",
       " '19940',\n",
       " '35103',\n",
       " '17673',\n",
       " '13607',\n",
       " '41860',\n",
       " '72420',\n",
       " '42025',\n",
       " '51988',\n",
       " '19940',\n",
       " '35103',\n",
       " '17673',\n",
       " '13607',\n",
       " '41860',\n",
       " '72420',\n",
       " '42025',\n",
       " '51988',\n",
       " '19940',\n",
       " '35103',\n",
       " '17673',\n",
       " '13607']"
      ]
     },
     "execution_count": 28,
     "metadata": {},
     "output_type": "execute_result"
    }
   ],
   "source": [
    "info_stars"
   ]
  },
  {
   "cell_type": "code",
   "execution_count": null,
   "id": "coral-professor",
   "metadata": {},
   "outputs": [],
   "source": []
  }
 ],
 "metadata": {
  "kernelspec": {
   "display_name": "Python 3",
   "language": "python",
   "name": "python3"
  },
  "language_info": {
   "codemirror_mode": {
    "name": "ipython",
    "version": 3
   },
   "file_extension": ".py",
   "mimetype": "text/x-python",
   "name": "python",
   "nbconvert_exporter": "python",
   "pygments_lexer": "ipython3",
   "version": "3.9.0"
  }
 },
 "nbformat": 4,
 "nbformat_minor": 5
}
